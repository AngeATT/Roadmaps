{
 "cells": [
  {
   "cell_type": "code",
   "execution_count": 2,
   "metadata": {},
   "outputs": [],
   "source": [
    "import random\n",
    "\n",
    "voitures = [10,\"bmw\",\"toyota\"]\n",
    "maisons = [\"duplex\",\"villa basse\",\"cour commune\"]\n"
   ]
  },
  {
   "cell_type": "code",
   "execution_count": 6,
   "metadata": {},
   "outputs": [],
   "source": [
    "def draw():\n",
    "    voiture = random.choice(voitures)\n",
    "    maison = random.choice(maisons)\n",
    "    return voiture, \"et\", maison\n",
    "    "
   ]
  },
  {
   "cell_type": "code",
   "execution_count": 7,
   "metadata": {},
   "outputs": [
    {
     "name": "stdout",
     "output_type": "stream",
     "text": [
      "('bmw', 'et', 'villa basse')\n"
     ]
    }
   ],
   "source": [
    "print(draw())"
   ]
  },
  {
   "cell_type": "code",
   "execution_count": 9,
   "metadata": {},
   "outputs": [
    {
     "name": "stdout",
     "output_type": "stream",
     "text": [
      "(10, 'et', 'duplex')\n",
      "('bmw', 'et', 'duplex')\n",
      "('bmw', 'et', 'cour commune')\n",
      "('bmw', 'et', 'villa basse')\n",
      "('bmw', 'et', 'cour commune')\n"
     ]
    }
   ],
   "source": [
    "for _ in range(5) :\n",
    "    print(draw())"
   ]
  }
 ],
 "metadata": {
  "kernelspec": {
   "display_name": "Python 3",
   "language": "python",
   "name": "python3"
  },
  "language_info": {
   "codemirror_mode": {
    "name": "ipython",
    "version": 3
   },
   "file_extension": ".py",
   "mimetype": "text/x-python",
   "name": "python",
   "nbconvert_exporter": "python",
   "pygments_lexer": "ipython3",
   "version": "3.12.0"
  }
 },
 "nbformat": 4,
 "nbformat_minor": 2
}
